{
 "cells": [
  {
   "cell_type": "markdown",
   "metadata": {},
   "source": [
    "<center><h3 style=\"color:#fff;background-color:black; padding:5px 0\">Desafio velocidad de escape y rentabilidad</h3> </center><hr>"
   ]
  },
  {
   "cell_type": "markdown",
   "metadata": {},
   "source": [
    "<h4>1.- Datos de entrada - Velocidad de escape</h4>"
   ]
  },
  {
   "cell_type": "code",
   "execution_count": 1,
   "metadata": {},
   "outputs": [],
   "source": [
    "import math # se importa la libreria"
   ]
  },
  {
   "cell_type": "code",
   "execution_count": null,
   "metadata": {},
   "outputs": [],
   "source": [
    "r_km = float(input(\"Ingrese el radio en Kilómetros: \"))  # Radio en kilómetros\n",
    "g = float(input(\"Ingrese la constante g [m/s^2]: \"))  # Constante gravitacional\n",
    "r = r_km * 1000  # Convertir radio a metros"
   ]
  },
  {
   "cell_type": "code",
   "execution_count": null,
   "metadata": {},
   "outputs": [],
   "source": [
    "ve = math.sqrt(2 * g * r)"
   ]
  },
  {
   "cell_type": "code",
   "execution_count": null,
   "metadata": {},
   "outputs": [],
   "source": [
    "print(f\"La velocidad de Escape es {ve:.1f} [m/s]\")"
   ]
  },
  {
   "cell_type": "markdown",
   "metadata": {},
   "source": [
    "<center><h3 style=\"color:#fff;background-color:black\"></h3> </center>"
   ]
  },
  {
   "cell_type": "markdown",
   "metadata": {},
   "source": [
    "<h4>1.- Datos de entrada - Rentabilidad</h4>"
   ]
  },
  {
   "cell_type": "markdown",
   "metadata": {},
   "source": [
    "<h4>Version 1</h4>"
   ]
  },
  {
   "cell_type": "code",
   "execution_count": null,
   "metadata": {},
   "outputs": [],
   "source": [
    "P = float(input(\"Ingrese el precio de suscripción: \"))\n",
    "U = int(input(\"Ingrese el número de usuarios: \"))\n",
    "GT = float(input(\"Ingrese los gastos totales: \"))\n",
    "\n",
    "# Cálculo de utilidades\n",
    "Utilidades = P * U - GT\n",
    "\n",
    "print(f\"Las utilidades del proyecto son: {Utilidades}\")\n"
   ]
  },
  {
   "cell_type": "markdown",
   "metadata": {},
   "source": [
    "<h4>Version 2</h4>"
   ]
  },
  {
   "cell_type": "code",
   "execution_count": null,
   "metadata": {},
   "outputs": [],
   "source": [
    "P = float(input(\"Ingrese el precio de suscripción para usuarios normales: \"))\n",
    "U_normal = int(input(\"Ingrese el número de usuarios normales: \"))\n",
    "U_premium = int(input(\"Ingrese el número de usuarios premium: \"))\n",
    "GT = float(input(\"Ingrese los gastos totales: \"))\n",
    "\n",
    "# Cálculo de utilidades considerando usuarios normales y premium\n",
    "Utilidades = P * U_normal + 1.5 * P * U_premium - GT\n",
    "\n",
    "print(f\"Las utilidades del proyecto son: {Utilidades}\")\n"
   ]
  },
  {
   "cell_type": "markdown",
   "metadata": {},
   "source": [
    "<h4>Version 3</h4>"
   ]
  },
  {
   "cell_type": "code",
   "execution_count": null,
   "metadata": {},
   "outputs": [],
   "source": [
    "P = float(input(\"Ingrese el precio de suscripción: \"))\n",
    "U = int(input(\"Ingrese el número de usuarios: \"))\n",
    "GT = float(input(\"Ingrese los gastos totales: \"))\n",
    "U_anterior = float(input(\"Ingrese las utilidades del año anterior: \"))\n",
    "\n",
    "# Cálculo de utilidades actuales\n",
    "Utilidades_actuales = P * U - GT\n",
    "\n",
    "# Cálculo de la razón de crecimiento\n",
    "Razon = Utilidades_actuales / U_anterior\n",
    "\n",
    "print(f\"Las utilidades actuales del proyecto son: {Utilidades_actuales}\")\n",
    "print(f\"La razón entre las utilidades actuales y las del año anterior es: {Razon:.2f}\")\n"
   ]
  },
  {
   "cell_type": "markdown",
   "metadata": {},
   "source": [
    "<h4 style=\"text-align: right;\">Fabian Valencia C.</h4>"
   ]
  }
 ],
 "metadata": {
  "kernelspec": {
   "display_name": "Python 3",
   "language": "python",
   "name": "python3"
  },
  "language_info": {
   "codemirror_mode": {
    "name": "ipython",
    "version": 3
   },
   "file_extension": ".py",
   "mimetype": "text/x-python",
   "name": "python",
   "nbconvert_exporter": "python",
   "pygments_lexer": "ipython3",
   "version": "3.8.5"
  }
 },
 "nbformat": 4,
 "nbformat_minor": 4
}
